{
 "cells": [
  {
   "cell_type": "markdown",
   "id": "a47dbca9",
   "metadata": {},
   "source": [
    "# Payback period of electric heat pumps\n",
    "\n",
    "Hydronic heating works by providing heat energy to the home in the form of hot water, which is radiated inside the house. We can heat the water either by using a gas boiler, or an air-to-water heat pump. The gas boilers have a coefficient of performance (COP) of approximately 0.7, which means that 70% of the gas energy put in makes it as heat into the water (and thus the house). The Stiebel Eltron AC25 heat pump has a COP of 5, which means that for every watt of electricity put in, you get 5 watts of heat out (!). This is achieved by harvesting ambient heat from the air (and produces colder air outside as a by-product).\n",
    "\n",
    "The issue is that heat pumps are more expensive than gas boilers. In this case, we will assume a 3K AUD gas boiler faced against a 15K AUD heat pump.\n",
    "\n",
    "We'll use the [pint](https://pint.readthedocs.io/en/stable/) library to convert units and figure out how many years of heating we need to make back the cost of the heat pump."
   ]
  },
  {
   "cell_type": "code",
   "execution_count": 1,
   "id": "1028dccf",
   "metadata": {},
   "outputs": [],
   "source": [
    "import pint\n",
    "\n",
    "u = pint.UnitRegistry()\n",
    "u.define('dollar = [currency]')\n",
    "u.define('cent = 0.01 * dollar')\n",
    "gas_price = 1.78 * u('cent / MJ')  # based on current prices 2022-05-23\n",
    "elec_price = 20.35 * u('cent / kWh')  # based on current prices"
   ]
  },
  {
   "cell_type": "markdown",
   "id": "dded2198",
   "metadata": {},
   "source": [
    "Now we have the basic gas prices and electricity prices. To figure out how much it costs to get a kWh of heat using gas vs electricity, we divide the above values by the COP of each technology."
   ]
  },
  {
   "cell_type": "code",
   "execution_count": 2,
   "id": "f9bb0bc1",
   "metadata": {},
   "outputs": [
    {
     "name": "stdout",
     "output_type": "stream",
     "text": [
      "gas cost of heat:  9.154285714285717 cent / kilowatt_hour\n",
      "electric heat pump cost of heat:  4.07 cent / kilowatt_hour\n"
     ]
    }
   ],
   "source": [
    "gas_heat_price = gas_price / 0.7\n",
    "elec_heat_price = elec_price / 5\n",
    "\n",
    "print('gas cost of heat: ', gas_heat_price.to('cent / kWh'))\n",
    "print('electric heat pump cost of heat: ', elec_heat_price.to('cent / kWh'))"
   ]
  },
  {
   "cell_type": "markdown",
   "id": "9cfc063b",
   "metadata": {},
   "source": [
    "Now, how much heat does one need in a year? I am basing this my gas usage from last year from April to November, inclusive. In that time, I used 80,000 MJ of gas in addition to the summer baseline (ie cooktop, hot water). Given the cop, that means I needed 80,000 $\\times$ 0.7 MJ of heat:"
   ]
  },
  {
   "cell_type": "code",
   "execution_count": 3,
   "id": "fe1b5b06",
   "metadata": {},
   "outputs": [],
   "source": [
    "annual_usage = 80_000 * 0.7 * u('MJ / year')"
   ]
  },
  {
   "cell_type": "markdown",
   "id": "69b069c3",
   "metadata": {},
   "source": [
    "Finally, we multiply this by the cost per megajoule to get the annual cost."
   ]
  },
  {
   "cell_type": "code",
   "execution_count": 4,
   "id": "7d52bf67",
   "metadata": {},
   "outputs": [
    {
     "name": "stdout",
     "output_type": "stream",
     "text": [
      "the annual cost of gas heating is:  1424.0000000000002 dollar / year\n",
      "the annual cost of electric heating is:  633.1111111111111 dollar / year\n",
      "annual savings:  790.888888888889 dollar / year\n"
     ]
    }
   ],
   "source": [
    "annual_cost_gas = annual_usage * gas_heat_price\n",
    "annual_cost_elec = annual_usage * elec_heat_price\n",
    "\n",
    "print('the annual cost of gas heating is: ', annual_cost_gas.to('dollar / year'))\n",
    "print('the annual cost of electric heating is: ', annual_cost_elec.to('dollar / year'))\n",
    "\n",
    "annual_savings = (annual_cost_gas - annual_cost_elec).to('dollar / year')\n",
    "\n",
    "print('annual savings: ', annual_savings)"
   ]
  },
  {
   "cell_type": "markdown",
   "id": "28416295",
   "metadata": {},
   "source": [
    "The payback period is therefore:"
   ]
  },
  {
   "cell_type": "code",
   "execution_count": 5,
   "id": "bcb84224",
   "metadata": {},
   "outputs": [
    {
     "name": "stdout",
     "output_type": "stream",
     "text": [
      "the payback period is:  15.17280134869345 year\n"
     ]
    }
   ],
   "source": [
    "print('the payback period is: ', 12_000 * u.dollar / annual_savings)"
   ]
  },
  {
   "cell_type": "markdown",
   "id": "898921ec",
   "metadata": {},
   "source": [
    "It's important to note that this calculation is done without accounting for heating powered by rooftop solar panels — in this case, we get additional savings equal to about 8c/kWh (difference between feed-in tariff and cost of electricity). Therefore, the above payback period represents an upper bound.\n",
    "\n",
    "In the case that two heaters need to be purchased, multiply the annual usage and the price difference by two."
   ]
  }
 ],
 "metadata": {
  "jupytext": {
   "text_representation": {
    "extension": ".md",
    "format_name": "myst",
    "format_version": 0.13,
    "jupytext_version": "1.13.6"
   }
  },
  "kernelspec": {
   "display_name": "Python 3 (ipykernel)",
   "language": "python",
   "name": "python3"
  },
  "language_info": {
   "codemirror_mode": {
    "name": "ipython",
    "version": 3
   },
   "file_extension": ".py",
   "mimetype": "text/x-python",
   "name": "python",
   "nbconvert_exporter": "python",
   "pygments_lexer": "ipython3",
   "version": "3.9.6"
  }
 },
 "nbformat": 4,
 "nbformat_minor": 5
}
